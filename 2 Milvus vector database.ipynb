{
 "cells": [
  {
   "cell_type": "markdown",
   "metadata": {},
   "source": [
    "### Architecture\n",
    "\n",
    "The worker node is responsible for loading indexes, searching, and returning results back\n",
    "\n",
    " <img src=\"documents/Milvus arch.PNG\" alt=\"drawing\" style=\"width:500px;\"/>"
   ]
  },
  {
   "cell_type": "markdown",
   "metadata": {},
   "source": [
    "1. Each Milvus instance can manange multiple databases, the default one is \"default\"\n",
    "2. Each database  serves as a container storeing collections, partitions, and indexes within it. \n",
    "3. Collection is like table with schema which defined fields for data storage; support saclar and vector fields; PR or auto-generated keys</br>\n",
    "   Datatypes supported</br>\n",
    "   <img src=\"documents/Milvus dtypes.PNG\" alt=\"drawing\" style=\"width:500px;\"/>\n",
    "\n",
    "3. RBAC(access control) is implemented by database. \n",
    "- Users can be created and configured at a database level. \n",
    "- Roles can also be created for each database with specified permissions and then assigned to users.\n",
    " "
   ]
  },
  {
   "cell_type": "markdown",
   "metadata": {},
   "source": [
    "### Partations\n",
    "- A collection  can be split up into multiple partitions.  \n",
    "- All data in a partition are stored physically together. \n",
    "- Default partition called _default.  \n",
    "- Data can be inserted into or queried from partitions specially   \n",
    "- Partitions help optimize storage and retrieval: use popular filter fieldsas partition keys.  ."
   ]
  },
  {
   "cell_type": "markdown",
   "metadata": {},
   "source": [
    "### Index\n",
    "Speed up searching\n",
    "- In Milvus, we can create indexes on either scalar or vector fields. \n",
    "- only be one index per field.  no support for composite indexes in Milvus. \n",
    "- Indexes help organize vectors using an ANN(apporximate nearest neighor) metric type like L2 or IP. The index is set up in such a way that will help search using these metrics efficiently. \n",
    "- Vector indexes are a <B>prerequisite</B> for doing ANN searches on vector fields. These indexes must be created before any such search. \n",
    "- Index types</BR>\n",
    "      <img src=\"documents/Milvus index type.PNG\" alt=\"drawing\" style=\"width:500px;\"/>\n",
    "\n"
   ]
  },
  {
   "cell_type": "markdown",
   "metadata": {},
   "source": [
    "### Data management\n",
    "- Row also called entity\n",
    "- Bulk inserts are recommended \n",
    "- Flush operation    \n",
    "    - After inserts are done, a flush operation is needed to index the newly inserted data \n",
    "    - Milvus automatically flushes data after the pending records reach a specific size after insertion   \n",
    "    - But if immediate querying is needed, it is recommended to manually trigger the flush operation \n",
    "- Upsert operation      \n",
    "    - Milvus also supports the upsert operation   \n",
    "    - if a duplicate record is inserted with the same primary key, the existing record is updated rather than creating a new record   \n",
    "- Delete   \n",
    "    - Entity can also be deleted using the primary key or a Boolean expression as a filter."
   ]
  },
  {
   "cell_type": "markdown",
   "metadata": {},
   "source": [
    "### Query \n",
    "- sql statement\n",
    "- can secifily fileds, partititons,limints and offsets(which is the number of rows to skip before returning the remaining data. This helps with pagination type querie)  \n",
    "- aggration: only count support\n",
    "- Filtering:  like  && ||   == != >= <=  in  array_contains  json_contains ...\n",
    "\n",
    "### Search\n",
    "1. the input string or the search query should first be converted to a vector using the <b>same embedding model</b> as the one used when ingesting the vector field. \n",
    "2. The metric used for comparison should be the <b>same metric(e.g IP,L2)</b> that was used when creating the index for the vector field.\n",
    "index is a prerequisite before search can be performed on the vector field.\n",
    "3. can also specify the limit on the number of rows returned and an offset from which to return rows. \n",
    "4. can also specify radius parameter to filter based on similarity(distance). The smaller the distance, the higher the similarity. \n",
    "Do note that the range of values for distance will vary based on the metric type used, so radius needs to be adjusted for that. \n",
    "5. the computed distance is also returned in addition to the query results. "
   ]
  },
  {
   "cell_type": "markdown",
   "metadata": {},
   "source": [
    "### Setting up\n",
    "1. cd to the Folder A where the compose yml is \n",
    "2. Create and start a container to install Mivus<br>\n",
    "```docker-compose -f milvs-standlone-docker-compese.yml up- d    ```\n",
    "3. List containers to check the contianter is ready<br>\n",
    "``` docler ps (or docker container ls)```\n",
    "4. strat the miwus UI<br>\n",
    "``` localhost:8000/3/connect```\n",
    "5. create a new vitral env name Milus<br>\n",
    "```conda create --name Mivus   python=3.11.5```\n",
    "6. active the env under Folder A <br>\n",
    "```conda active Mivus ```\n"
   ]
  }
 ],
 "metadata": {
  "language_info": {
   "name": "python"
  }
 },
 "nbformat": 4,
 "nbformat_minor": 2
}
